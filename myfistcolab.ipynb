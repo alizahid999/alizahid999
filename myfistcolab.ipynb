{
  "nbformat": 4,
  "nbformat_minor": 0,
  "metadata": {
    "colab": {
      "name": "myfistcolab.ipynb",
      "provenance": [],
      "collapsed_sections": [],
      "authorship_tag": "ABX9TyPutw4gj0hU0cwoCl+dUmtF",
      "include_colab_link": true
    },
    "kernelspec": {
      "name": "python3",
      "display_name": "Python 3"
    },
    "language_info": {
      "name": "python"
    }
  },
  "cells": [
    {
      "cell_type": "markdown",
      "metadata": {
        "id": "view-in-github",
        "colab_type": "text"
      },
      "source": [
        "<a href=\"https://colab.research.google.com/github/alizahid999/alizahid999/blob/main/myfistcolab.ipynb\" target=\"_parent\"><img src=\"https://colab.research.google.com/assets/colab-badge.svg\" alt=\"Open In Colab\"/></a>"
      ]
    },
    {
      "cell_type": "code",
      "execution_count": 7,
      "metadata": {
        "id": "hSTPwBLWg96I",
        "colab": {
          "base_uri": "https://localhost:8080/"
        },
        "outputId": "c6f1cc62-f23c-4fb2-83ec-e43aa22a1c7e"
      },
      "outputs": [
        {
          "output_type": "stream",
          "name": "stdout",
          "text": [
            "Tue Aug  2 13:27:13 2022\n"
          ]
        }
      ],
      "source": [
        "import time \n",
        "print(time.ctime())\n"
      ]
    },
    {
      "cell_type": "code",
      "source": [
        "time.sleep(5)\n",
        "print (time.ctime())\n"
      ],
      "metadata": {
        "colab": {
          "base_uri": "https://localhost:8080/"
        },
        "id": "1KeYBG2BkF4h",
        "outputId": "104a23a1-a4d6-44f0-d9df-52adf3a7f578"
      },
      "execution_count": 8,
      "outputs": [
        {
          "output_type": "stream",
          "name": "stdout",
          "text": [
            "Tue Aug  2 13:27:20 2022\n"
          ]
        }
      ]
    },
    {
      "cell_type": "markdown",
      "source": [
        "**This is bold **\n",
        "*this italic* \n",
        " this strike:"
      ],
      "metadata": {
        "id": "cLRSurJ_rNbw"
      }
    },
    {
      "cell_type": "code",
      "source": [
        ""
      ],
      "metadata": {
        "id": "4YifYip5sXSG"
      },
      "execution_count": 8,
      "outputs": []
    },
    {
      "cell_type": "markdown",
      "source": [
        "$\\sqrt{3x-1}+(1+x)^2$\n"
      ],
      "metadata": {
        "id": "p16OpuuCrr3w"
      }
    },
    {
      "cell_type": "markdown",
      "source": [
        "\n"
      ],
      "metadata": {
        "id": "LYr-oKTSt-lA"
      }
    },
    {
      "cell_type": "markdown",
      "source": [
        "![image.png](data:image/png;base64,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)\n"
      ],
      "metadata": {
        "id": "Ko1j_4IAtHPC"
      }
    },
    {
      "cell_type": "markdown",
      "source": [
        "-3x1+6x2+x3=<28\n",
        "-7x1+3x2+2x3=<37\n",
        "-4x1+5x2+2x3=<19\n",
        "-x1,x2,x3 >=0\n",
        "\n"
      ],
      "metadata": {
        "id": "y8nXMb1DuuaA"
      }
    },
    {
      "cell_type": "markdown",
      "source": [
        "- $3x_1 + 6x_2 + x_3 =< 28$\n",
        "- $7x_1 + 3x_2 + 2x_3 =< 37$\n",
        "- $4x_1 + 5x_2 + 2x_3 =< 19$\n",
        "- $x_1,x_2,x_3 >=0 $\n"
      ],
      "metadata": {
        "id": "Mv5y0vorzlGg"
      }
    },
    {
      "cell_type": "markdown",
      "source": [
        "$e^x=\\sum_{i=0}^\\infty \\frac{1}{i!}x^i$"
      ],
      "metadata": {
        "id": "eBs8QLShvsuZ"
      }
    },
    {
      "cell_type": "markdown",
      "source": [
        "- $u_i(t) = x_i(t) + \\beta(\\hat{x}(t) − x_i(t)) + \\beta \\sum_{k = 1}^{n\n",
        "_v}(x_{i1,k}(t) − x_{i2,k}(t))$\n",
        "$f(x_1, x_2) = 20 + e - 20exp(-0.2 \\sqrt {\\frac {1}{n} (x_1^2 + x_2^2)}) - exp (\\frac {1}{n}(cos(2\\pi x_1) + cos(2\\pi x_2))$\n",
        "$x ∈ [-5, 5]$\n",
        ">$A_{m,n} =\n",
        "\\begin{pmatrix}\n",
        "a_{1,1} & a_{1,2} & \\cdots & a_{1,n} \\\\\n",
        "a_{2,1} & a_{2,2} & \\cdots & a_{2,n} \\\\\n",
        "\\vdots & \\vdots & \\ddots & \\vdots \\\\\n",
        "a_{m,1} & a_{m,2} & \\cdots & a_{m,n}\n",
        "\\end{pmatrix}$\n"
      ],
      "metadata": {
        "id": "y9jatC8Y0bzQ"
      }
    }
  ]
}